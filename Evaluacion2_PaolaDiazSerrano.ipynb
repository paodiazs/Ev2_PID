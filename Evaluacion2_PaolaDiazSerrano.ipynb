{
 "cells": [
  {
   "cell_type": "markdown",
   "id": "7312514a-470a-4224-9f50-7e6840b87744",
   "metadata": {},
   "source": [
    "## Paola Díaz Serrano\n",
    "# Parte 1: Creación y manipulación de arrays"
   ]
  },
  {
   "cell_type": "code",
   "execution_count": 2,
   "id": "29ed1fed-dad1-4659-8e3a-84b2732d9993",
   "metadata": {},
   "outputs": [],
   "source": [
    "import numpy as np"
   ]
  },
  {
   "cell_type": "code",
   "execution_count": 5,
   "id": "b5644714-0daf-40bd-a2de-61d9889a5522",
   "metadata": {},
   "outputs": [
    {
     "name": "stdout",
     "output_type": "stream",
     "text": [
      "[ 76 100  75  84  98  30  99  64  19  18]\n"
     ]
    }
   ],
   "source": [
    "# Crear matriz\n",
    "array = np.random.randint(1, 101, size=10)\n",
    "print(array)"
   ]
  },
  {
   "cell_type": "markdown",
   "id": "d0d99110-e02c-4aec-b2d6-6d2721a42e81",
   "metadata": {},
   "source": [
    "## Reshape"
   ]
  },
  {
   "cell_type": "code",
   "execution_count": 7,
   "id": "eeea06f9-5852-4f2f-876e-517015866ab5",
   "metadata": {},
   "outputs": [
    {
     "name": "stdout",
     "output_type": "stream",
     "text": [
      "[[ 76 100  75  84  98]\n",
      " [ 30  99  64  19  18]]\n"
     ]
    }
   ],
   "source": [
    "matriz = array.reshape(2, 5)\n",
    "print (matriz)"
   ]
  },
  {
   "cell_type": "markdown",
   "id": "fa625ce6-e615-40a2-8a78-eb697a21772d",
   "metadata": {},
   "source": [
    "## Indexación y slicing\n",
    "Extraer primer fila"
   ]
  },
  {
   "cell_type": "code",
   "execution_count": 8,
   "id": "ac8318c1-e1a0-494c-82a0-ef7c6bc89bb7",
   "metadata": {},
   "outputs": [
    {
     "name": "stdout",
     "output_type": "stream",
     "text": [
      "[ 76 100  75  84  98]\n"
     ]
    }
   ],
   "source": [
    "primer_fila = matriz[0,:]\n",
    "print(primer_fila)"
   ]
  },
  {
   "cell_type": "markdown",
   "id": "98701e3b-6e91-4c17-8efd-0240858bcc90",
   "metadata": {},
   "source": [
    "Extraer última columna"
   ]
  },
  {
   "cell_type": "code",
   "execution_count": 9,
   "id": "ff0d5ff5-c3f4-4f09-b789-fde81cd4a469",
   "metadata": {},
   "outputs": [
    {
     "name": "stdout",
     "output_type": "stream",
     "text": [
      "[98 18]\n"
     ]
    }
   ],
   "source": [
    "ult_colum = matriz[:, -1]\n",
    "print(ult_colum)"
   ]
  },
  {
   "cell_type": "markdown",
   "id": "c696444e-6169-4d36-86f0-86c774511a4e",
   "metadata": {},
   "source": [
    "## Modificación"
   ]
  },
  {
   "cell_type": "code",
   "execution_count": 11,
   "id": "0c2dd75c-305f-41dc-9b81-eb97a3a81670",
   "metadata": {},
   "outputs": [
    {
     "name": "stdout",
     "output_type": "stream",
     "text": [
      "[[ 76 100  75  84  98]\n",
      " [  0   0   0   0   0]]\n"
     ]
    }
   ],
   "source": [
    "# Cambiar la segunda fila a ceros\n",
    "matriz[1, :] = 0\n",
    "print(matriz)"
   ]
  },
  {
   "cell_type": "markdown",
   "id": "e462dfa3-3435-410b-97b7-d1cd6d864b4e",
   "metadata": {},
   "source": [
    "# Parte 2: Operaciones básicas con NumPy "
   ]
  },
  {
   "cell_type": "markdown",
   "id": "90f9d41c-3aea-448e-85de-289a49d4292f",
   "metadata": {},
   "source": [
    "## Creación de arrays"
   ]
  },
  {
   "cell_type": "code",
   "execution_count": 26,
   "id": "098e06fb-4249-4113-9297-bca9879f4958",
   "metadata": {},
   "outputs": [
    {
     "name": "stdout",
     "output_type": "stream",
     "text": [
      "ar1 =  [40 30 50 25 18]\n",
      "ar2 =  [49 38 24 42 10]\n"
     ]
    }
   ],
   "source": [
    "# Creación de arrays\n",
    "ar1 = np.random.randint(1, 51, size=5)\n",
    "ar2 = np.random.randint(1, 51, size=5)\n",
    "print(\"ar1 = \", ar1)\n",
    "print(\"ar2 = \", ar2)"
   ]
  },
  {
   "cell_type": "markdown",
   "id": "b9fe8e44-6aa4-4912-9ef0-c2fcb50c5318",
   "metadata": {},
   "source": [
    "## Operaciones aritméticas \n",
    "Suma de arrays"
   ]
  },
  {
   "cell_type": "code",
   "execution_count": 27,
   "id": "94079ceb-769f-49e2-bb88-71175349f92c",
   "metadata": {},
   "outputs": [
    {
     "name": "stdout",
     "output_type": "stream",
     "text": [
      "la suma de los arrays es:  [89 68 74 67 28]\n"
     ]
    }
   ],
   "source": [
    "#Suma de arrays\n",
    "sum = ar1 +ar2\n",
    "\n",
    "print(\"la suma de los arrays es: \" ,sum)"
   ]
  },
  {
   "cell_type": "code",
   "execution_count": 28,
   "id": "d39ce546-94f9-4b0e-b67f-1f7001089b5f",
   "metadata": {},
   "outputs": [
    {
     "name": "stdout",
     "output_type": "stream",
     "text": [
      "Multiplicación:  [1960 1140 1200 1050  180]\n"
     ]
    }
   ],
   "source": [
    "#Multiplicar arrays\n",
    "mult = ar1 * ar2\n",
    "\n",
    "print(\"Multiplicación: \", mult)"
   ]
  },
  {
   "cell_type": "markdown",
   "id": "dc45eb82-fedc-458a-b601-51b82c4fed27",
   "metadata": {},
   "source": [
    "## Promedio y desviación"
   ]
  },
  {
   "cell_type": "code",
   "execution_count": 31,
   "id": "f05ba01a-f8db-4d54-9bd6-37f85a5dc5ec",
   "metadata": {},
   "outputs": [
    {
     "name": "stdout",
     "output_type": "stream",
     "text": [
      "Promedio de la suma de arrays:  65.2\n",
      "Desviación de la suma de arrays:  20.193068117549647\n"
     ]
    }
   ],
   "source": [
    "#Promedio de la suma\n",
    "promedio_suma = np.mean(sum)\n",
    "desviacion_suma = np.std(sum)\n",
    "\n",
    "print(\"Promedio de la suma de arrays: \",promedio_suma)\n",
    "print(\"Desviación de la suma de arrays: \",desviacion_suma)"
   ]
  },
  {
   "cell_type": "code",
   "execution_count": 32,
   "id": "2e113cd4-ecef-4f9d-8881-21452e05cbd8",
   "metadata": {},
   "outputs": [
    {
     "name": "stdout",
     "output_type": "stream",
     "text": [
      "Promedio de la mult de arrays:  1106.0\n",
      "Desviación de la mult de arrays:  565.6712826368332\n"
     ]
    }
   ],
   "source": [
    "#Promedio de la suma\n",
    "promedio_mult = np.mean(mult)\n",
    "desviacion_mult = np.std(mult)\n",
    "\n",
    "print(\"Promedio de la mult de arrays: \",promedio_mult)\n",
    "print(\"Desviación de la mult de arrays: \",desviacion_mult)"
   ]
  },
  {
   "cell_type": "markdown",
   "id": "1ece00d1-8b74-43a9-b456-9b8c38bace6f",
   "metadata": {},
   "source": [
    "## Condiciones lógicas"
   ]
  },
  {
   "cell_type": "code",
   "execution_count": 41,
   "id": "f0abd4a1-62c9-4b8a-a943-b7d8a005c795",
   "metadata": {},
   "outputs": [
    {
     "name": "stdout",
     "output_type": "stream",
     "text": [
      "[1 1 1 1 1 0 0 1 1 1 1 1 0 0 0 0 0 0 1 1]\n"
     ]
    }
   ],
   "source": [
    "array_1 = np.random.rand(20)\n",
    "\n",
    "array_1[array_1 < 0.5] = 0\n",
    "array_1[array_1 >= 0.5] = 1\n",
    "\n",
    "array_sin_punto = array_1.astype(int)\n",
    "print(array_sin_punto)\n"
   ]
  },
  {
   "cell_type": "markdown",
   "id": "a329af87-ce14-4039-a14b-f7328d55e10e",
   "metadata": {},
   "source": [
    "## Producto escalar"
   ]
  },
  {
   "cell_type": "code",
   "execution_count": 60,
   "id": "d5dadf3b-b7ed-4114-aef8-5199745f775d",
   "metadata": {},
   "outputs": [
    {
     "name": "stdout",
     "output_type": "stream",
     "text": [
      "Array 1:  [[0.73769156 0.32587183 0.27933084]\n",
      " [0.46215176 0.00174702 0.22345534]\n",
      " [0.42739531 0.81332767 0.34990918]]\n",
      "Array 2:  [[0.74219347 0.36048078 0.0987835 ]\n",
      " [0.76036348 0.9178195  0.10108294]\n",
      " [0.41052297 0.79087543 0.30340833]]\n",
      "Producto escalar:  [[0.90996262 0.78593105 0.19056314]\n",
      " [0.43606794 0.34492562 0.11362777]\n",
      " [1.07928043 1.17729037 0.23059852]]\n"
     ]
    }
   ],
   "source": [
    "array1 = np.random.rand(3, 3)\n",
    "array2 = np.random.rand(3, 3)\n",
    "\n",
    "producto_escalar = np.dot(array1, array2)\n",
    "\n",
    "print(\"Array 1: \", array1)\n",
    "print(\"Array 2: \", array2)\n",
    "\n",
    "print(\"Producto escalar: \" , producto_escalar)"
   ]
  },
  {
   "cell_type": "markdown",
   "id": "724e6326-ba35-495a-a20c-e20b23e9e5c0",
   "metadata": {},
   "source": [
    "# Parte 3: Análisis de datos\n",
    "Crear array(datos)"
   ]
  },
  {
   "cell_type": "code",
   "execution_count": 53,
   "id": "421709a5-7b42-4989-946a-50d1aeb1ee41",
   "metadata": {},
   "outputs": [
    {
     "name": "stdout",
     "output_type": "stream",
     "text": [
      "[[19  6 17 11]\n",
      " [ 7 11  7 12]\n",
      " [14  5  6 15]\n",
      " [ 9 20 16 20]\n",
      " [16 20  1  6]]\n"
     ]
    }
   ],
   "source": [
    "datos = np.random.randint(1, 21, size=(5, 4))\n",
    "\n",
    "print(datos)"
   ]
  },
  {
   "cell_type": "markdown",
   "id": "86d879d2-593f-4c8a-90d0-330cbbd65c99",
   "metadata": {},
   "source": [
    "### Media"
   ]
  },
  {
   "cell_type": "code",
   "execution_count": 51,
   "id": "b88da83a-c269-4f04-a62e-4a5334243086",
   "metadata": {},
   "outputs": [
    {
     "name": "stdout",
     "output_type": "stream",
     "text": [
      "Medición): [ 6.  12.2  9.8 13.6]\n"
     ]
    }
   ],
   "source": [
    "# Calcular la media\n",
    "media_datos_columnas = np.mean(datos, axis=0)\n",
    "\n",
    "print(\"Medición):\", media_datos_columnas)"
   ]
  },
  {
   "cell_type": "markdown",
   "id": "47f6973a-25e5-460f-a120-0fe495ab79e9",
   "metadata": {},
   "source": [
    "### Valor mínimo y máximo"
   ]
  },
  {
   "cell_type": "code",
   "execution_count": 54,
   "id": "d37b84a7-8b39-4ed3-bc97-8f3d75039d68",
   "metadata": {},
   "outputs": [
    {
     "name": "stdout",
     "output_type": "stream",
     "text": [
      "Fila 1: Máximo = 19, Mínimo = 6\n",
      "Fila 2: Máximo = 12, Mínimo = 7\n",
      "Fila 3: Máximo = 15, Mínimo = 5\n",
      "Fila 4: Máximo = 20, Mínimo = 9\n",
      "Fila 5: Máximo = 20, Mínimo = 1\n"
     ]
    }
   ],
   "source": [
    "# Máximo de fila\n",
    "max_filas = np.max(datos, axis=1)\n",
    "\n",
    "# Encontrar el valor mínimo de cada fila\n",
    "min_filas = np.min(datos, axis=1)\n",
    "\n",
    "# Imprimir los resultados\n",
    "for i in range(datos.shape[0]):\n",
    "    print(f\"Fila {i + 1}: Máximo = {max_filas[i]}, Mínimo = {min_filas[i]}\")\n"
   ]
  },
  {
   "cell_type": "markdown",
   "id": "5d27f0fe-d815-4e63-8212-75c5f23e738d",
   "metadata": {},
   "source": [
    "### Ordenar de acuerdo al peso"
   ]
  },
  {
   "cell_type": "code",
   "execution_count": 57,
   "id": "c9633841-0d2d-43fc-b8e0-a29de9da9b86",
   "metadata": {},
   "outputs": [
    {
     "name": "stdout",
     "output_type": "stream",
     "text": [
      "Matriz ordenada según peso orden descendente: [[14  5  6 15]\n",
      " [19  6 17 11]\n",
      " [ 7 11  7 12]\n",
      " [ 9 20 16 20]\n",
      " [16 20  1  6]]\n"
     ]
    }
   ],
   "source": [
    "i_ordenados = np.argsort(datos[:, 1])\n",
    "matriz_orden = datos[i_ordenados]\n",
    "\n",
    "print(\"Matriz ordenada según peso orden descendente:\", matriz_orden)"
   ]
  }
 ],
 "metadata": {
  "kernelspec": {
   "display_name": "Python 3 (ipykernel)",
   "language": "python",
   "name": "python3"
  },
  "language_info": {
   "codemirror_mode": {
    "name": "ipython",
    "version": 3
   },
   "file_extension": ".py",
   "mimetype": "text/x-python",
   "name": "python",
   "nbconvert_exporter": "python",
   "pygments_lexer": "ipython3",
   "version": "3.12.1"
  }
 },
 "nbformat": 4,
 "nbformat_minor": 5
}
